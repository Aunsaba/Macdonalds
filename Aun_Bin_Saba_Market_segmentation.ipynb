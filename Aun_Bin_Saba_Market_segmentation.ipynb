{
 "cells": [
  {
   "cell_type": "code",
   "execution_count": 1,
   "id": "3cb103c3",
   "metadata": {},
   "outputs": [],
   "source": [
    "import numpy as np\n",
    "import pandas as pd\n",
    "import seaborn as sns\n",
    "import matplotlib\n",
    "from matplotlib import pyplot as plt"
   ]
  },
  {
   "cell_type": "code",
   "execution_count": 2,
   "id": "506fdb67",
   "metadata": {},
   "outputs": [],
   "source": [
    "# read the datset\n",
    "df=pd.read_csv(\"mcdonalds.csv\")"
   ]
  },
  {
   "cell_type": "code",
   "execution_count": 3,
   "id": "51c77512",
   "metadata": {},
   "outputs": [
    {
     "data": {
      "text/plain": [
       "Index(['yummy', 'convenient', 'spicy', 'fattening', 'greasy', 'fast', 'cheap',\n",
       "       'tasty', 'expensive', 'healthy', 'disgusting', 'Like', 'Age',\n",
       "       'VisitFrequency', 'Gender'],\n",
       "      dtype='object')"
      ]
     },
     "execution_count": 3,
     "metadata": {},
     "output_type": "execute_result"
    }
   ],
   "source": [
    "#Columns in Dataset\n",
    "df.columns"
   ]
  },
  {
   "cell_type": "code",
   "execution_count": 4,
   "id": "b62d2df6",
   "metadata": {},
   "outputs": [
    {
     "data": {
      "text/html": [
       "<div>\n",
       "<style scoped>\n",
       "    .dataframe tbody tr th:only-of-type {\n",
       "        vertical-align: middle;\n",
       "    }\n",
       "\n",
       "    .dataframe tbody tr th {\n",
       "        vertical-align: top;\n",
       "    }\n",
       "\n",
       "    .dataframe thead th {\n",
       "        text-align: right;\n",
       "    }\n",
       "</style>\n",
       "<table border=\"1\" class=\"dataframe\">\n",
       "  <thead>\n",
       "    <tr style=\"text-align: right;\">\n",
       "      <th></th>\n",
       "      <th>yummy</th>\n",
       "      <th>convenient</th>\n",
       "      <th>spicy</th>\n",
       "      <th>fattening</th>\n",
       "      <th>greasy</th>\n",
       "      <th>fast</th>\n",
       "      <th>cheap</th>\n",
       "      <th>tasty</th>\n",
       "      <th>expensive</th>\n",
       "      <th>healthy</th>\n",
       "      <th>disgusting</th>\n",
       "      <th>Like</th>\n",
       "      <th>Age</th>\n",
       "      <th>VisitFrequency</th>\n",
       "      <th>Gender</th>\n",
       "    </tr>\n",
       "  </thead>\n",
       "  <tbody>\n",
       "    <tr>\n",
       "      <th>0</th>\n",
       "      <td>No</td>\n",
       "      <td>Yes</td>\n",
       "      <td>No</td>\n",
       "      <td>Yes</td>\n",
       "      <td>No</td>\n",
       "      <td>Yes</td>\n",
       "      <td>Yes</td>\n",
       "      <td>No</td>\n",
       "      <td>Yes</td>\n",
       "      <td>No</td>\n",
       "      <td>No</td>\n",
       "      <td>-3</td>\n",
       "      <td>61</td>\n",
       "      <td>Every three months</td>\n",
       "      <td>Female</td>\n",
       "    </tr>\n",
       "    <tr>\n",
       "      <th>1</th>\n",
       "      <td>Yes</td>\n",
       "      <td>Yes</td>\n",
       "      <td>No</td>\n",
       "      <td>Yes</td>\n",
       "      <td>Yes</td>\n",
       "      <td>Yes</td>\n",
       "      <td>Yes</td>\n",
       "      <td>Yes</td>\n",
       "      <td>Yes</td>\n",
       "      <td>No</td>\n",
       "      <td>No</td>\n",
       "      <td>+2</td>\n",
       "      <td>51</td>\n",
       "      <td>Every three months</td>\n",
       "      <td>Female</td>\n",
       "    </tr>\n",
       "    <tr>\n",
       "      <th>2</th>\n",
       "      <td>No</td>\n",
       "      <td>Yes</td>\n",
       "      <td>Yes</td>\n",
       "      <td>Yes</td>\n",
       "      <td>Yes</td>\n",
       "      <td>Yes</td>\n",
       "      <td>No</td>\n",
       "      <td>Yes</td>\n",
       "      <td>Yes</td>\n",
       "      <td>Yes</td>\n",
       "      <td>No</td>\n",
       "      <td>+1</td>\n",
       "      <td>62</td>\n",
       "      <td>Every three months</td>\n",
       "      <td>Female</td>\n",
       "    </tr>\n",
       "  </tbody>\n",
       "</table>\n",
       "</div>"
      ],
      "text/plain": [
       "  yummy convenient spicy fattening greasy fast cheap tasty expensive healthy  \\\n",
       "0    No        Yes    No       Yes     No  Yes   Yes    No       Yes      No   \n",
       "1   Yes        Yes    No       Yes    Yes  Yes   Yes   Yes       Yes      No   \n",
       "2    No        Yes   Yes       Yes    Yes  Yes    No   Yes       Yes     Yes   \n",
       "\n",
       "  disgusting Like  Age      VisitFrequency  Gender  \n",
       "0         No   -3   61  Every three months  Female  \n",
       "1         No   +2   51  Every three months  Female  \n",
       "2         No   +1   62  Every three months  Female  "
      ]
     },
     "execution_count": 4,
     "metadata": {},
     "output_type": "execute_result"
    }
   ],
   "source": [
    "# top 3 rows of data\n",
    "df.head(3)"
   ]
  },
  {
   "cell_type": "code",
   "execution_count": 5,
   "id": "2f74144f",
   "metadata": {},
   "outputs": [
    {
     "name": "stdout",
     "output_type": "stream",
     "text": [
      "[0.55264969 0.90777701 0.09359945 0.86717137 0.5264969  0.90020647\n",
      " 0.59876118 0.64418445 0.35788025 0.19889883 0.24294563]\n"
     ]
    }
   ],
   "source": [
    "df_mac= df.iloc[:, 0:11].values\n",
    "\n",
    "# Converting \"Yes\" to 1 and other values to 0\n",
    "macd= (df_mac == \"Yes\").astype(int)\n",
    "\n",
    "# Computing column means\n",
    "col_means = macd.mean(axis=0)\n",
    "\n",
    "print(col_means)"
   ]
  },
  {
   "cell_type": "code",
   "execution_count": 6,
   "id": "d715288e",
   "metadata": {},
   "outputs": [
    {
     "name": "stdout",
     "output_type": "stream",
     "text": [
      "PC  Standard deviation  Proportion of Variance  Cumulative Proportion\n",
      "1             0.573124                0.299447               0.299447\n",
      "2             0.369002                0.192797               0.492244\n",
      "3             0.254641                0.133045               0.625290\n",
      "4             0.159040                0.083096               0.708386\n",
      "5             0.113842                0.059481               0.767866\n",
      "6             0.096270                0.050300               0.818166\n",
      "7             0.083925                0.043849               0.862015\n",
      "8             0.075692                0.039548               0.901563\n",
      "9             0.070358                0.036761               0.938323\n",
      "10            0.061922                0.032353               0.970677\n",
      "11            0.056123                0.029323               1.000000\n"
     ]
    }
   ],
   "source": [
    "from sklearn.decomposition import PCA\n",
    "# Performing PCA\n",
    "macd_pca = PCA()\n",
    "macd_pca.fit(macd)\n",
    "\n",
    "# Summary\n",
    "summary = pd.DataFrame({\n",
    "    'Standard deviation': macd_pca.explained_variance_,\n",
    "    'Proportion of Variance': macd_pca.explained_variance_ratio_,\n",
    "    'Cumulative Proportion': macd_pca.explained_variance_ratio_.cumsum()\n",
    "})\n",
    "summary.index += 1 \n",
    "summary.columns.name = 'PC'\n",
    "print(summary)"
   ]
  },
  {
   "cell_type": "code",
   "execution_count": 7,
   "id": "e7e25684",
   "metadata": {},
   "outputs": [
    {
     "data": {
      "text/plain": [
       "array([[-0.47693349, -0.15533159, -0.00635636,  0.11623168,  0.3044427 ,\n",
       "        -0.10849325, -0.33718593, -0.47151394,  0.32904173, -0.21371062,\n",
       "         0.37475293],\n",
       "       [ 0.36378978,  0.016414  ,  0.01880869, -0.03409395, -0.06383884,\n",
       "        -0.0869722 , -0.61063276,  0.3073178 ,  0.60128596,  0.07659344,\n",
       "        -0.13965633],\n",
       "       [-0.30444402, -0.0625153 , -0.03701866, -0.32235949, -0.80237317,\n",
       "        -0.06464172, -0.14931026, -0.28726479,  0.02439661,  0.19205128,\n",
       "        -0.08857138],\n",
       "       [ 0.0551622 , -0.14242496,  0.19761927, -0.35413876,  0.2539601 ,\n",
       "        -0.09736269,  0.11895823, -0.00254696,  0.06781599,  0.76348804,\n",
       "         0.36953871],\n",
       "       [-0.30753507,  0.27760805,  0.07062017, -0.07340475,  0.36139895,\n",
       "         0.10793025, -0.12897259, -0.21089912, -0.00312457,  0.28784553,\n",
       "        -0.72920859],\n",
       "       [ 0.17073819, -0.34783006, -0.3550866 , -0.40651542,  0.20934711,\n",
       "        -0.59463206, -0.10324067, -0.07691443, -0.26134151, -0.17822612,\n",
       "        -0.21087805],\n",
       "       [-0.28051863, -0.05973793,  0.70763705, -0.38594277,  0.03616962,\n",
       "        -0.08684577, -0.04044934,  0.36045348, -0.06838452, -0.34961569,\n",
       "        -0.02679159],\n",
       "       [ 0.01304117, -0.11307868,  0.37593402,  0.58962241, -0.13824084,\n",
       "        -0.62779877,  0.14006047, -0.07279193,  0.02953939,  0.17630281,\n",
       "        -0.16718101],\n",
       "       [ 0.57240278, -0.01846534,  0.40027977, -0.16051227, -0.00284738,\n",
       "         0.16619659,  0.07606907, -0.63908592,  0.06699639, -0.1855722 ,\n",
       "        -0.07248255],\n",
       "       [-0.11028437, -0.66581756, -0.07563413, -0.00533813,  0.00870725,\n",
       "         0.23953197,  0.42808739,  0.0791838 ,  0.45439925, -0.03811713,\n",
       "        -0.28959188],\n",
       "       [ 0.04543901, -0.54161635,  0.14172992,  0.25090987,  0.00164229,\n",
       "         0.33926454, -0.48928285,  0.01955226, -0.49006853,  0.15760765,\n",
       "        -0.04066227]])"
      ]
     },
     "execution_count": 7,
     "metadata": {},
     "output_type": "execute_result"
    }
   ],
   "source": [
    "macd_pca.components_"
   ]
  },
  {
   "cell_type": "code",
   "execution_count": 8,
   "id": "025be9c2",
   "metadata": {},
   "outputs": [],
   "source": [
    "#Create a dataframe containing the loadings or coefficients of all PCs\n",
    "df_extracted_loadings = pd.DataFrame(macd_pca.components_.T, \n",
    "                                     columns = ['PC1','PC2', 'PC3', 'PC4', 'PC5', 'PC6',\n",
    "                                               'PC7','PC8','PC9','PC10','PC11'],\n",
    "                                    index = df.columns[:11])"
   ]
  },
  {
   "cell_type": "code",
   "execution_count": 9,
   "id": "534e3bc0",
   "metadata": {},
   "outputs": [
    {
     "data": {
      "text/html": [
       "<div>\n",
       "<style scoped>\n",
       "    .dataframe tbody tr th:only-of-type {\n",
       "        vertical-align: middle;\n",
       "    }\n",
       "\n",
       "    .dataframe tbody tr th {\n",
       "        vertical-align: top;\n",
       "    }\n",
       "\n",
       "    .dataframe thead th {\n",
       "        text-align: right;\n",
       "    }\n",
       "</style>\n",
       "<table border=\"1\" class=\"dataframe\">\n",
       "  <thead>\n",
       "    <tr style=\"text-align: right;\">\n",
       "      <th></th>\n",
       "      <th>PC1</th>\n",
       "      <th>PC2</th>\n",
       "      <th>PC3</th>\n",
       "      <th>PC4</th>\n",
       "      <th>PC5</th>\n",
       "      <th>PC6</th>\n",
       "      <th>PC7</th>\n",
       "      <th>PC8</th>\n",
       "      <th>PC9</th>\n",
       "      <th>PC10</th>\n",
       "      <th>PC11</th>\n",
       "    </tr>\n",
       "  </thead>\n",
       "  <tbody>\n",
       "    <tr>\n",
       "      <th>yummy</th>\n",
       "      <td>-0.476933</td>\n",
       "      <td>0.363790</td>\n",
       "      <td>-0.304444</td>\n",
       "      <td>0.055162</td>\n",
       "      <td>-0.307535</td>\n",
       "      <td>0.170738</td>\n",
       "      <td>-0.280519</td>\n",
       "      <td>0.013041</td>\n",
       "      <td>0.572403</td>\n",
       "      <td>-0.110284</td>\n",
       "      <td>0.045439</td>\n",
       "    </tr>\n",
       "    <tr>\n",
       "      <th>convenient</th>\n",
       "      <td>-0.155332</td>\n",
       "      <td>0.016414</td>\n",
       "      <td>-0.062515</td>\n",
       "      <td>-0.142425</td>\n",
       "      <td>0.277608</td>\n",
       "      <td>-0.347830</td>\n",
       "      <td>-0.059738</td>\n",
       "      <td>-0.113079</td>\n",
       "      <td>-0.018465</td>\n",
       "      <td>-0.665818</td>\n",
       "      <td>-0.541616</td>\n",
       "    </tr>\n",
       "    <tr>\n",
       "      <th>spicy</th>\n",
       "      <td>-0.006356</td>\n",
       "      <td>0.018809</td>\n",
       "      <td>-0.037019</td>\n",
       "      <td>0.197619</td>\n",
       "      <td>0.070620</td>\n",
       "      <td>-0.355087</td>\n",
       "      <td>0.707637</td>\n",
       "      <td>0.375934</td>\n",
       "      <td>0.400280</td>\n",
       "      <td>-0.075634</td>\n",
       "      <td>0.141730</td>\n",
       "    </tr>\n",
       "    <tr>\n",
       "      <th>fattening</th>\n",
       "      <td>0.116232</td>\n",
       "      <td>-0.034094</td>\n",
       "      <td>-0.322359</td>\n",
       "      <td>-0.354139</td>\n",
       "      <td>-0.073405</td>\n",
       "      <td>-0.406515</td>\n",
       "      <td>-0.385943</td>\n",
       "      <td>0.589622</td>\n",
       "      <td>-0.160512</td>\n",
       "      <td>-0.005338</td>\n",
       "      <td>0.250910</td>\n",
       "    </tr>\n",
       "    <tr>\n",
       "      <th>greasy</th>\n",
       "      <td>0.304443</td>\n",
       "      <td>-0.063839</td>\n",
       "      <td>-0.802373</td>\n",
       "      <td>0.253960</td>\n",
       "      <td>0.361399</td>\n",
       "      <td>0.209347</td>\n",
       "      <td>0.036170</td>\n",
       "      <td>-0.138241</td>\n",
       "      <td>-0.002847</td>\n",
       "      <td>0.008707</td>\n",
       "      <td>0.001642</td>\n",
       "    </tr>\n",
       "    <tr>\n",
       "      <th>fast</th>\n",
       "      <td>-0.108493</td>\n",
       "      <td>-0.086972</td>\n",
       "      <td>-0.064642</td>\n",
       "      <td>-0.097363</td>\n",
       "      <td>0.107930</td>\n",
       "      <td>-0.594632</td>\n",
       "      <td>-0.086846</td>\n",
       "      <td>-0.627799</td>\n",
       "      <td>0.166197</td>\n",
       "      <td>0.239532</td>\n",
       "      <td>0.339265</td>\n",
       "    </tr>\n",
       "    <tr>\n",
       "      <th>cheap</th>\n",
       "      <td>-0.337186</td>\n",
       "      <td>-0.610633</td>\n",
       "      <td>-0.149310</td>\n",
       "      <td>0.118958</td>\n",
       "      <td>-0.128973</td>\n",
       "      <td>-0.103241</td>\n",
       "      <td>-0.040449</td>\n",
       "      <td>0.140060</td>\n",
       "      <td>0.076069</td>\n",
       "      <td>0.428087</td>\n",
       "      <td>-0.489283</td>\n",
       "    </tr>\n",
       "    <tr>\n",
       "      <th>tasty</th>\n",
       "      <td>-0.471514</td>\n",
       "      <td>0.307318</td>\n",
       "      <td>-0.287265</td>\n",
       "      <td>-0.002547</td>\n",
       "      <td>-0.210899</td>\n",
       "      <td>-0.076914</td>\n",
       "      <td>0.360453</td>\n",
       "      <td>-0.072792</td>\n",
       "      <td>-0.639086</td>\n",
       "      <td>0.079184</td>\n",
       "      <td>0.019552</td>\n",
       "    </tr>\n",
       "    <tr>\n",
       "      <th>expensive</th>\n",
       "      <td>0.329042</td>\n",
       "      <td>0.601286</td>\n",
       "      <td>0.024397</td>\n",
       "      <td>0.067816</td>\n",
       "      <td>-0.003125</td>\n",
       "      <td>-0.261342</td>\n",
       "      <td>-0.068385</td>\n",
       "      <td>0.029539</td>\n",
       "      <td>0.066996</td>\n",
       "      <td>0.454399</td>\n",
       "      <td>-0.490069</td>\n",
       "    </tr>\n",
       "    <tr>\n",
       "      <th>healthy</th>\n",
       "      <td>-0.213711</td>\n",
       "      <td>0.076593</td>\n",
       "      <td>0.192051</td>\n",
       "      <td>0.763488</td>\n",
       "      <td>0.287846</td>\n",
       "      <td>-0.178226</td>\n",
       "      <td>-0.349616</td>\n",
       "      <td>0.176303</td>\n",
       "      <td>-0.185572</td>\n",
       "      <td>-0.038117</td>\n",
       "      <td>0.157608</td>\n",
       "    </tr>\n",
       "    <tr>\n",
       "      <th>disgusting</th>\n",
       "      <td>0.374753</td>\n",
       "      <td>-0.139656</td>\n",
       "      <td>-0.088571</td>\n",
       "      <td>0.369539</td>\n",
       "      <td>-0.729209</td>\n",
       "      <td>-0.210878</td>\n",
       "      <td>-0.026792</td>\n",
       "      <td>-0.167181</td>\n",
       "      <td>-0.072483</td>\n",
       "      <td>-0.289592</td>\n",
       "      <td>-0.040662</td>\n",
       "    </tr>\n",
       "  </tbody>\n",
       "</table>\n",
       "</div>"
      ],
      "text/plain": [
       "                 PC1       PC2       PC3       PC4       PC5       PC6  \\\n",
       "yummy      -0.476933  0.363790 -0.304444  0.055162 -0.307535  0.170738   \n",
       "convenient -0.155332  0.016414 -0.062515 -0.142425  0.277608 -0.347830   \n",
       "spicy      -0.006356  0.018809 -0.037019  0.197619  0.070620 -0.355087   \n",
       "fattening   0.116232 -0.034094 -0.322359 -0.354139 -0.073405 -0.406515   \n",
       "greasy      0.304443 -0.063839 -0.802373  0.253960  0.361399  0.209347   \n",
       "fast       -0.108493 -0.086972 -0.064642 -0.097363  0.107930 -0.594632   \n",
       "cheap      -0.337186 -0.610633 -0.149310  0.118958 -0.128973 -0.103241   \n",
       "tasty      -0.471514  0.307318 -0.287265 -0.002547 -0.210899 -0.076914   \n",
       "expensive   0.329042  0.601286  0.024397  0.067816 -0.003125 -0.261342   \n",
       "healthy    -0.213711  0.076593  0.192051  0.763488  0.287846 -0.178226   \n",
       "disgusting  0.374753 -0.139656 -0.088571  0.369539 -0.729209 -0.210878   \n",
       "\n",
       "                 PC7       PC8       PC9      PC10      PC11  \n",
       "yummy      -0.280519  0.013041  0.572403 -0.110284  0.045439  \n",
       "convenient -0.059738 -0.113079 -0.018465 -0.665818 -0.541616  \n",
       "spicy       0.707637  0.375934  0.400280 -0.075634  0.141730  \n",
       "fattening  -0.385943  0.589622 -0.160512 -0.005338  0.250910  \n",
       "greasy      0.036170 -0.138241 -0.002847  0.008707  0.001642  \n",
       "fast       -0.086846 -0.627799  0.166197  0.239532  0.339265  \n",
       "cheap      -0.040449  0.140060  0.076069  0.428087 -0.489283  \n",
       "tasty       0.360453 -0.072792 -0.639086  0.079184  0.019552  \n",
       "expensive  -0.068385  0.029539  0.066996  0.454399 -0.490069  \n",
       "healthy    -0.349616  0.176303 -0.185572 -0.038117  0.157608  \n",
       "disgusting -0.026792 -0.167181 -0.072483 -0.289592 -0.040662  "
      ]
     },
     "execution_count": 9,
     "metadata": {},
     "output_type": "execute_result"
    }
   ],
   "source": [
    "df_extracted_loadings"
   ]
  },
  {
   "cell_type": "code",
   "execution_count": 10,
   "id": "776fa1f9",
   "metadata": {},
   "outputs": [
    {
     "data": {
      "image/png": "[encoded data removed]",
      "text/plain": [
       "<Figure size 432x288 with 1 Axes>"
      ]
     },
     "metadata": {
      "needs_background": "light"
     },
     "output_type": "display_data"
    },
    {
     "data": {
      "image/png": "[encoded data removed]",
      "text/plain": [
       "<Figure size 432x288 with 1 Axes>"
      ]
     },
     "metadata": {
      "needs_background": "light"
     },
     "output_type": "display_data"
    }
   ],
   "source": [
    "# Projecting data onto principal components\n",
    "projected_data = macd_pca.transform(macd)\n",
    "plt.scatter(projected_data[:, 0], projected_data[:, 1], color='grey')\n",
    "plt.xlabel('PC1')\n",
    "plt.ylabel('PC2')\n",
    "plt.title('Projected Data')\n",
    "plt.show()\n",
    "# Plotting principal component axes\n",
    "plt.plot([0, macd_pca.components_[0, 0]], [0, macd_pca.components_[0, 1]], color='red', linewidth=2, label='PC1')\n",
    "plt.xlabel('Feature Space for PC1')\n",
    "plt.ylabel('Feature Space for PC2')\n",
    "plt.title('Principal Component Axes')\n",
    "plt.legend()\n",
    "plt.show()"
   ]
  },
  {
   "cell_type": "code",
   "execution_count": 11,
   "id": "baad8d18",
   "metadata": {},
   "outputs": [],
   "source": [
    "from sklearn.cluster import KMeans\n",
    "seg={}\n",
    "wss=[]\n",
    "for i in range(2,9):\n",
    "    km=KMeans(n_clusters=i,n_init=10,random_state=1)\n",
    "    cluster_labels=km.fit_predict(macd)\n",
    "    seg[i]=cluster_labels\n",
    "    wss.append(km.inertia_)"
   ]
  },
  {
   "cell_type": "code",
   "execution_count": 12,
   "id": "8bdbd119",
   "metadata": {},
   "outputs": [
    {
     "data": {
      "image/png": "[encoded data removed]",
      "text/plain": [
       "<Figure size 432x288 with 1 Axes>"
      ]
     },
     "metadata": {
      "needs_background": "light"
     },
     "output_type": "display_data"
    }
   ],
   "source": [
    "plt.bar(range(2,9),wss)\n",
    "plt.xlabel('Number of segments')\n",
    "plt.ylabel('Within-cluster sum of squares')\n",
    "plt.title('Elbow Method for Optimal k')\n",
    "plt.show()"
   ]
  },
  {
   "cell_type": "code",
   "execution_count": 13,
   "id": "4d33f17c",
   "metadata": {},
   "outputs": [],
   "source": [
    "np.random.seed(1234)\n",
    "k_range = range(2,9)\n",
    "# Number of bootstrap samples\n",
    "nboot =100\n",
    "bootstrap_results =[]\n",
    "for _ in range(nboot):\n",
    "    bootstrap_sample_indices = np.random.choice(len(macd), size=len(macd), replace=True)\n",
    "    bootstrap_sample = macd[bootstrap_sample_indices]\n",
    "      # Dictionary to store clustering results for this bootstrap sample\n",
    "    bootstrap_sample_results = {}\n",
    "     # Perform k-means clustering for each k value\n",
    "    for k in k_range:\n",
    "        clusterer = KMeans(n_clusters=k, n_init=10, random_state=1234)\n",
    "        cluster_labels = clusterer.fit_predict(bootstrap_sample)\n",
    "        bootstrap_sample_results[k] = cluster_labels\n",
    "    bootstrap_results.append(bootstrap_sample_results)"
   ]
  },
  {
   "cell_type": "code",
   "execution_count": 14,
   "id": "45e2ccc8",
   "metadata": {},
   "outputs": [
    {
     "data": {
      "text/plain": [
       "{2: array([1, 1, 1, ..., 0, 1, 1]),\n",
       " 3: array([0, 1, 0, ..., 2, 0, 0]),\n",
       " 4: array([1, 0, 0, ..., 3, 1, 1]),\n",
       " 5: array([0, 1, 4, ..., 3, 4, 0]),\n",
       " 6: array([4, 0, 0, ..., 5, 0, 4]),\n",
       " 7: array([4, 3, 3, ..., 5, 3, 4]),\n",
       " 8: array([6, 2, 5, ..., 1, 5, 6])}"
      ]
     },
     "execution_count": 14,
     "metadata": {},
     "output_type": "execute_result"
    }
   ],
   "source": [
    "bootstrap_sample_results"
   ]
  },
  {
   "cell_type": "code",
   "execution_count": 15,
   "id": "5bda91ef",
   "metadata": {},
   "outputs": [
    {
     "data": {
      "image/png": "[encoded data removed]",
      "text/plain": [
       "<Figure size 432x288 with 1 Axes>"
      ]
     },
     "metadata": {
      "needs_background": "light"
     },
     "output_type": "display_data"
    }
   ],
   "source": [
    "from sklearn.metrics import adjusted_rand_score\n",
    "from sklearn.utils import resample\n",
    "np.random.seed(1234)\n",
    "k_range = range(2, 9)\n",
    "# Number of repetitions\n",
    "nrep = 10\n",
    "nboot=100\n",
    "ari_scores=[]\n",
    "for k in k_range:\n",
    "    k_ari_scores = []\n",
    "    for _ in range(nboot):\n",
    "        bootstrap_sample = resample(macd, replace=True)\n",
    "        kmeans = KMeans(n_clusters=k, n_init=10, random_state=1234)\n",
    "        cluster_labels = kmeans.fit_predict(bootstrap_sample)\n",
    "        true_labels = np.random.randint(0, 2, size=len(cluster_labels))\n",
    "        ari = adjusted_rand_score(true_labels, cluster_labels)\n",
    "        k_ari_scores.append(ari)\n",
    "    ari_scores.append(k_ari_scores)\n",
    "\n",
    "plt.boxplot(ari_scores, labels=k_range)\n",
    "plt.xlabel('Number of segments')\n",
    "plt.ylabel('Adjusted Rand index')\n",
    "plt.title('Adjusted Rand Index for Bootstrapping')\n",
    "plt.show()"
   ]
  },
  {
   "cell_type": "code",
   "execution_count": 16,
   "id": "116d0af1",
   "metadata": {},
   "outputs": [],
   "source": [
    "from sklearn.metrics import silhouette_samples\n",
    "sample_silhouette_values = silhouette_samples(macd,seg[i])\n",
    "\n",
    "means_lst = []\n",
    "for label in range(2,9):\n",
    "    means_lst.append(sample_silhouette_values[seg[i] == label])"
   ]
  },
  {
   "cell_type": "code",
   "execution_count": 19,
   "id": "115a9cce",
   "metadata": {},
   "outputs": [
    {
     "data": {
      "image/png": "[encoded data removed]",
      "text/plain": [
       "<Figure size 432x288 with 1 Axes>"
      ]
     },
     "metadata": {
      "needs_background": "light"
     },
     "output_type": "display_data"
    }
   ],
   "source": [
    "plt.boxplot(means_lst,labels=k_range)\n",
    "plt.xlabel('Segment Number')\n",
    "plt.ylabel('Segment Stability')\n",
    "plt.title('Segment Stability Plot (k=4)')\n",
    "plt.ylim(0, 1)  # Set y-axis limit to 0 and 1\n",
    "plt.xlabel('Segment Number')\n",
    "plt.ylabel('Segment Stability')\n",
    "plt.title('Segment Stability Plot (k=4)')\n",
    "plt.ylim(0, 1)  # Set y-axis limit to 0 and 1\n",
    "plt.show()"
   ]
  },
  {
   "cell_type": "code",
   "execution_count": 26,
   "id": "9e07557c",
   "metadata": {},
   "outputs": [
    {
     "data": {
      "text/plain": [
       "array([[0, 1, 0, ..., 1, 0, 0],\n",
       "       [1, 1, 0, ..., 1, 0, 0],\n",
       "       [0, 1, 1, ..., 1, 1, 0],\n",
       "       ...,\n",
       "       [1, 1, 0, ..., 1, 0, 0],\n",
       "       [1, 1, 0, ..., 0, 1, 0],\n",
       "       [0, 1, 0, ..., 1, 0, 1]])"
      ]
     },
     "execution_count": 26,
     "metadata": {},
     "output_type": "execute_result"
    }
   ],
   "source": [
    "macd"
   ]
  },
  {
   "cell_type": "code",
   "execution_count": 27,
   "id": "e0881605",
   "metadata": {},
   "outputs": [
    {
     "name": "stdout",
     "output_type": "stream",
     "text": [
      "Model for k=2:\n",
      "GaussianMixture(n_components=2, random_state=1234)\n",
      "Model for k=3:\n",
      "GaussianMixture(n_components=3, random_state=1234)\n",
      "Model for k=4:\n",
      "GaussianMixture(n_components=4, random_state=1234)\n",
      "Model for k=5:\n",
      "GaussianMixture(n_components=5, random_state=1234)\n",
      "Model for k=6:\n",
      "GaussianMixture(n_components=6, random_state=1234)\n",
      "Model for k=7:\n",
      "GaussianMixture(n_components=7, random_state=1234)\n",
      "Model for k=8:\n",
      "GaussianMixture(n_components=8, random_state=1234)\n"
     ]
    }
   ],
   "source": [
    "from sklearn.mixture import GaussianMixture\n",
    "X = macd \n",
    "np.random.seed(1234)\n",
    "k_range = range(2, 9)  \n",
    "nrep = 10 \n",
    "cluster_results = {}\n",
    "for k in k_range:\n",
    "    best_model = None\n",
    "    best_bic = np.inf\n",
    "    for _ in range(nrep):\n",
    "        gmm = GaussianMixture(n_components=k, covariance_type='full', random_state=1234)\n",
    "        gmm.fit(X)\n",
    "        bic = gmm.bic(X)        \n",
    "        if bic < best_bic:\n",
    "            best_bic = bic\n",
    "            best_model = gmm    \n",
    "    cluster_results[k] = best_model\n",
    "# Print or analyze clustering results as needed\n",
    "for k, model in cluster_results.items():\n",
    "    print(f\"Model for k={k}:\")\n",
    "    print(model)"
   ]
  },
  {
   "cell_type": "code",
   "execution_count": 48,
   "id": "10fdb20b",
   "metadata": {},
   "outputs": [
    {
     "name": "stdout",
     "output_type": "stream",
     "text": [
      "Model for k=2:\n",
      "GaussianMixture(n_components=2, random_state=1234)\n",
      "AIC: -21985.64184966373, BIC: -21167.02707181034\n",
      "Model for k=3:\n",
      "GaussianMixture(n_components=3, random_state=1234)\n",
      "AIC: -12000.324363706544, BIC: -10769.76150409467\n",
      "Model for k=4:\n",
      "GaussianMixture(n_components=4, random_state=1234)\n",
      "AIC: -13534.446898771654, BIC: -11891.935957401296\n",
      "Model for k=5:\n",
      "GaussianMixture(n_components=5, random_state=1234)\n",
      "AIC: -27625.162786695688, BIC: -25570.70376356685\n",
      "Model for k=6:\n",
      "GaussianMixture(n_components=6, random_state=1234)\n",
      "AIC: -28527.657833126996, BIC: -26061.250728239673\n",
      "Model for k=7:\n",
      "GaussianMixture(n_components=7, random_state=1234)\n",
      "AIC: -32798.50181245358, BIC: -29920.146625807774\n",
      "Model for k=8:\n",
      "GaussianMixture(n_components=8, random_state=1234)\n",
      "AIC: -46876.428553223916, BIC: -43586.12528481963\n"
     ]
    }
   ],
   "source": [
    "aic_values=[]\n",
    "bic_values=[]\n",
    "for k, model in cluster_results.items():\n",
    "    print(f\"Model for k={k}:\")\n",
    "    print(model)    \n",
    "    # AIC and BIC scores\n",
    "    aic = model.aic(X)\n",
    "    aic_values.append(aic)\n",
    "    bic = model.bic(X)\n",
    "    bic_values.append(bic)\n",
    "    print(f\"AIC: {aic}, BIC: {bic}\")"
   ]
  },
  {
   "cell_type": "code",
   "execution_count": 49,
   "id": "20b9a0ff",
   "metadata": {},
   "outputs": [
    {
     "name": "stdout",
     "output_type": "stream",
     "text": [
      "Log-likelihood for k=2: 7.672278681921449\n",
      "Log-likelihood for k=3: 4.289856973057999\n",
      "Log-likelihood for k=4: 4.871454541903528\n",
      "Log-likelihood for k=5: 9.773972053233203\n",
      "Log-likelihood for k=6: 10.138216735418787\n",
      "Log-likelihood for k=7: 11.661562908621327\n",
      "Log-likelihood for k=8: 16.559679474612498\n"
     ]
    }
   ],
   "source": [
    "log_likelihoods = []\n",
    "for k, model in cluster_results.items():\n",
    "    log_likelihood = model.score(X)\n",
    "    log_likelihoods.append(log_likelihood)\n",
    "    print(f\"Log-likelihood for k={k}: {log_likelihood}\")"
   ]
  },
  {
   "cell_type": "code",
   "execution_count": 50,
   "id": "e6076773",
   "metadata": {},
   "outputs": [
    {
     "name": "stdout",
     "output_type": "stream",
     "text": [
      "ICL for k=2: 10591.18581458709\n",
      "ICL for k=3: 5389.1706090203925\n",
      "ICL for k=4: 5950.839433242551\n",
      "ICL for k=5: 12795.125853836658\n",
      "ICL for k=6: 13040.763580855255\n",
      "ICL for k=7: 14971.734875812508\n",
      "ICL for k=8: 21809.622321884428\n"
     ]
    }
   ],
   "source": [
    "icl_values = []\n",
    "for k, model in cluster_results.items():\n",
    "    log_likelihood = model.score(X)\n",
    "    bic = model.bic(X)\n",
    "    icl = log_likelihood - (0.5 * bic)  # Calculate ICL\n",
    "    icl_values.append(icl)\n",
    "    print(f\"ICL for k={k}: {icl}\")"
   ]
  },
  {
   "cell_type": "code",
   "execution_count": 51,
   "id": "0345fcd9",
   "metadata": {},
   "outputs": [
    {
     "name": "stdout",
     "output_type": "stream",
     "text": [
      "   k           AIC           BIC  Log Likelihood           ICL\n",
      "0  2 -21985.641850 -21167.027072        7.672279  10591.185815\n",
      "1  3 -12000.324364 -10769.761504        4.289857   5389.170609\n",
      "2  4 -13534.446899 -11891.935957        4.871455   5950.839433\n",
      "3  5 -27625.162787 -25570.703764        9.773972  12795.125854\n",
      "4  6 -28527.657833 -26061.250728       10.138217  13040.763581\n",
      "5  7 -32798.501812 -29920.146626       11.661563  14971.734876\n",
      "6  8 -46876.428553 -43586.125285       16.559679  21809.622322\n"
     ]
    }
   ],
   "source": [
    "k_values = range(2,9)\n",
    "results_macd = pd.DataFrame({\n",
    "    'k': k_values,\n",
    "    'AIC': aic_values,\n",
    "    'BIC': bic_values,\n",
    "    'Log Likelihood': log_likelihoods,\n",
    "    'ICL': icl_values})\n",
    "print(results_macd)"
   ]
  },
  {
   "cell_type": "code",
   "execution_count": 52,
   "id": "576b7a3d",
   "metadata": {},
   "outputs": [
    {
     "data": {
      "image/png": "[encoded data removed]",
      "text/plain": [
       "<Figure size 432x288 with 1 Axes>"
      ]
     },
     "metadata": {
      "needs_background": "light"
     },
     "output_type": "display_data"
    }
   ],
   "source": [
    "plt.plot(k_values, aic_values, label='AIC')\n",
    "plt.plot(k_values, bic_values, label='BIC')\n",
    "plt.plot(k_values, icl_values, label='ICL')\n",
    "plt.xlabel('Number of Clusters (k)')\n",
    "plt.ylabel('Value of Information Criteria')\n",
    "plt.title('Information Criteria vs Number of Clusters')\n",
    "plt.legend()\n",
    "plt.show()"
   ]
  },
  {
   "cell_type": "code",
   "execution_count": 58,
   "id": "d910264c",
   "metadata": {},
   "outputs": [
    {
     "data": {
      "text/plain": [
       "+3              229\n",
       "+2              187\n",
       "0               169\n",
       "+4              160\n",
       "+1              152\n",
       "I hate it!-5    152\n",
       "I love it!+5    143\n",
       "-3               73\n",
       "-4               71\n",
       "-2               59\n",
       "-1               58\n",
       "Name: Like, dtype: int64"
      ]
     },
     "execution_count": 58,
     "metadata": {},
     "output_type": "execute_result"
    }
   ],
   "source": [
    "df[\"Like\"].value_counts()"
   ]
  },
  {
   "cell_type": "code",
   "execution_count": 63,
   "id": "88ff2eba",
   "metadata": {},
   "outputs": [],
   "source": [
    "from mixmod import MixtureModel as MM"
   ]
  },
  {
   "cell_type": "code",
   "execution_count": 85,
   "id": "4e26d932",
   "metadata": {},
   "outputs": [
    {
     "name": "stdout",
     "output_type": "stream",
     "text": [
      "Index(['yummy', 'convenient', 'spicy', 'fattening', 'greasy', 'fast', 'cheap',\n",
      "       'tasty', 'expensive', 'healthy', 'disgusting', 'Like', 'Age',\n",
      "       'VisitFrequency', 'Gender'],\n",
      "      dtype='object')\n"
     ]
    }
   ],
   "source": [
    "import patsy\n",
    "print(df.columns)\n",
    "columns = \"+\".join(df.columns[0:11])\n",
    "formula_str = \"Like_n ~ \" + columns\n",
    "f = patsy.ModelDesc.from_formula(formula_str)"
   ]
  },
  {
   "cell_type": "code",
   "execution_count": null,
   "id": "6f9821db",
   "metadata": {},
   "outputs": [],
   "source": []
  }
 ],
 "metadata": {
  "kernelspec": {
   "display_name": "Python 3 (ipykernel)",
   "language": "python",
   "name": "python3"
  },
  "language_info": {
   "codemirror_mode": {
    "name": "ipython",
    "version": 3
   },
   "file_extension": ".py",
   "mimetype": "text/x-python",
   "name": "python",
   "nbconvert_exporter": "python",
   "pygments_lexer": "ipython3",
   "version": "3.9.12"
  }
 },
 "nbformat": 4,
 "nbformat_minor": 5
}
